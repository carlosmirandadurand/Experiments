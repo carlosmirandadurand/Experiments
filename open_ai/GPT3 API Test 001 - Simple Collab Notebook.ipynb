{
  "cells": [
    {
      "cell_type": "code",
      "execution_count": null,
      "metadata": {
        "id": "wPv-4UFp-5U0"
      },
      "outputs": [],
      "source": [
        "# Include a helper function to load secrets (from gist.github.com/carlosmirandadurand) \n",
        "# For Collab (when we dont have a local .env file, otherwise replace these cells with call to dotenv.load_dotenv)\n",
        "!wget -q bit.ly/cmd-load-secrets\n",
        "%run cmd-load-secrets"
      ]
    },
    {
      "cell_type": "code",
      "execution_count": null,
      "metadata": {
        "id": "VUDF7cQs-5c_"
      },
      "outputs": [],
      "source": [
        "# Helper function will prompt for credentials (provide in dictionary format) \n",
        "load_secrets()"
      ]
    },
    {
      "cell_type": "code",
      "execution_count": null,
      "metadata": {
        "id": "SZ4fTgvA9xdx"
      },
      "outputs": [],
      "source": [
        "# For Collab (Python API not in the environment default)\n",
        "!pip install openai"
      ]
    },
    {
      "cell_type": "code",
      "execution_count": null,
      "metadata": {
        "id": "vVWI4Xli8d0Q"
      },
      "outputs": [],
      "source": [
        "import os\n",
        "import json\n",
        "import openai"
      ]
    },
    {
      "cell_type": "code",
      "execution_count": null,
      "metadata": {
        "id": "lI-Wd5UM-40z"
      },
      "outputs": [],
      "source": [
        "# Connect to OpenAI\n",
        "openai.organization = os.getenv(\"OPENAI_ORG\")\n",
        "openai.api_key = os.getenv(\"OPENAI_KEY\")\n",
        "\n",
        "# List the models available\n",
        "openai_model_list = openai.Model.list()\n",
        "openai_model_ids  = sorted([ i[\"id\"] for i in openai_model_list['data']])\n",
        "print('List of Models:\\n -', '\\n - '.join(openai_model_ids), '\\n')"
      ]
    },
    {
      "cell_type": "code",
      "execution_count": null,
      "metadata": {},
      "outputs": [],
      "source": [
        "# Call a GPT model (Davinci) using the OpenAI Python API\n",
        "completion = openai.Completion.create(\n",
        "    engine = \"text-davinci-003\",\n",
        "    prompt = \"How much is 273 plus 27?\",\n",
        "    max_tokens = 20,\n",
        "    n = 1,\n",
        "    stop = None,\n",
        "    temperature = 0,\n",
        "    user = \"CMD1\"   # New parameter to identify users\n",
        ")\n",
        "\n",
        "for response in completion.choices:\n",
        "    print(f'RESPONSE {response.index+1}: {response.text.lstrip()}')"
      ]
    },
    {
      "cell_type": "code",
      "execution_count": null,
      "metadata": {
        "colab": {
          "base_uri": "https://localhost:8080/"
        },
        "id": "tsoy8w5o-5KY",
        "outputId": "d1cd4f84-642a-4274-ff58-51ea8beba107"
      },
      "outputs": [],
      "source": [
        "# Call a GPT model (Davinci) calling the OpenAI API via operating system command (curl) \n",
        "curl_command = \"\"\" \n",
        "  curl https://api.openai.com/v1/completions \\\\\n",
        "  -H \"Content-Type: application/json\" \\\\\n",
        "  -H \"Authorization: Bearer %s\" \\\\\n",
        "  -d '{\"model\": \"text-davinci-003\", \"prompt\": \"What big city lies south of Fort Lauderdale?\", \"temperature\": 0, \"max_tokens\": 7}' \n",
        "  \"\"\" % os.getenv(\"OPENAI_KEY\")\n",
        "\n",
        "curl_response = json.loads(os.popen(curl_command).read())\n",
        "\n",
        "for response in curl_response['choices']:\n",
        "  id = response['index']+1\n",
        "  text = response['text'].lstrip()\n",
        "  print(f'RESPONSE {id}: {text} ')"
      ]
    }
  ],
  "metadata": {
    "colab": {
      "authorship_tag": "ABX9TyMUSPMQdlf4vzaFcLf7qNMw",
      "include_colab_link": true,
      "provenance": []
    },
    "kernelspec": {
      "display_name": "Python 3",
      "name": "python3"
    },
    "language_info": {
      "codemirror_mode": {
        "name": "ipython",
        "version": 3
      },
      "file_extension": ".py",
      "mimetype": "text/x-python",
      "name": "python",
      "nbconvert_exporter": "python",
      "pygments_lexer": "ipython3",
      "version": "3.10.9"
    }
  },
  "nbformat": 4,
  "nbformat_minor": 0
}
