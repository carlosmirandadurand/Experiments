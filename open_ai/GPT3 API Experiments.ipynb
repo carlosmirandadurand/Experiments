{
  "nbformat": 4,
  "nbformat_minor": 0,
  "metadata": {
    "colab": {
      "provenance": [],
      "authorship_tag": "ABX9TyMUSPMQdlf4vzaFcLf7qNMw",
      "include_colab_link": true
    },
    "kernelspec": {
      "name": "python3",
      "display_name": "Python 3"
    },
    "language_info": {
      "name": "python"
    }
  },
  "cells": [
    {
      "cell_type": "markdown",
      "metadata": {
        "id": "view-in-github",
        "colab_type": "text"
      },
      "source": [
        "<a href=\"https://colab.research.google.com/github/carlosmirandadurand/Experiments/blob/feature%2Fgpt3/GPT3%20API%20Experiments.ipynb\" target=\"_parent\"><img src=\"https://colab.research.google.com/assets/colab-badge.svg\" alt=\"Open In Colab\"/></a>"
      ]
    },
    {
      "cell_type": "code",
      "source": [
        "# Include helper function to load secrets from gist.github.com/carlosmirandadurand \n",
        "!wget -q bit.ly/cmd-load-secrets\n",
        "%run cmd-load-secrets"
      ],
      "metadata": {
        "id": "wPv-4UFp-5U0"
      },
      "execution_count": 4,
      "outputs": []
    },
    {
      "cell_type": "code",
      "source": [
        "load_secrets()"
      ],
      "metadata": {
        "id": "VUDF7cQs-5c_"
      },
      "execution_count": null,
      "outputs": []
    },
    {
      "cell_type": "code",
      "execution_count": null,
      "metadata": {
        "id": "SZ4fTgvA9xdx"
      },
      "outputs": [],
      "source": [
        "pip install openai"
      ]
    },
    {
      "cell_type": "code",
      "execution_count": 39,
      "metadata": {
        "id": "vVWI4Xli8d0Q"
      },
      "outputs": [],
      "source": [
        "import os\n",
        "import json\n",
        "import openai"
      ]
    },
    {
      "cell_type": "code",
      "source": [
        "# Connect to OpenAI\n",
        "openai.organization = os.getenv(\"OPENAI_ORG\")\n",
        "openai.api_key = os.getenv(\"OPENAI_KEY\")\n",
        "print(\"OpenAI Org: \", os.getenv(\"OPENAI_ORG\"))\n",
        "openai.Model.list()"
      ],
      "metadata": {
        "id": "lI-Wd5UM-40z"
      },
      "execution_count": null,
      "outputs": []
    },
    {
      "cell_type": "code",
      "source": [
        "# Call OpenAI API via command \n",
        "curl_command = \"\"\" \n",
        "  curl https://api.openai.com/v1/completions \\\\\n",
        "  -H \"Content-Type: application/json\" \\\\\n",
        "  -H \"Authorization: Bearer %s\" \\\\\n",
        "  -d '{\"model\": \"text-davinci-003\", \"prompt\": \"Say this is a test\", \"temperature\": 0, \"max_tokens\": 7}' \n",
        "  \"\"\" % os.getenv(\"OPENAI_KEY\")\n",
        "\n",
        "curl_response = json.loads(os.popen(curl_command).read())\n",
        "curl_response"
      ],
      "metadata": {
        "id": "tsoy8w5o-5KY",
        "outputId": "d1cd4f84-642a-4274-ff58-51ea8beba107",
        "colab": {
          "base_uri": "https://localhost:8080/"
        }
      },
      "execution_count": 41,
      "outputs": [
        {
          "output_type": "execute_result",
          "data": {
            "text/plain": [
              "{'id': 'cmpl-6L2IN7qZTCdhxA7HG0oT2fTmSWJ0o',\n",
              " 'object': 'text_completion',\n",
              " 'created': 1670471731,\n",
              " 'model': 'text-davinci-003',\n",
              " 'choices': [{'text': '\\n\\nThis is indeed a test',\n",
              "   'index': 0,\n",
              "   'logprobs': None,\n",
              "   'finish_reason': 'length'}],\n",
              " 'usage': {'prompt_tokens': 5, 'completion_tokens': 7, 'total_tokens': 12}}"
            ]
          },
          "metadata": {},
          "execution_count": 41
        }
      ]
    }
  ]
}